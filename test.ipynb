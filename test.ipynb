{
 "cells": [
  {
   "cell_type": "markdown",
   "metadata": {},
   "source": [
    "## CONST_TEST\n",
    "![const](./screens/test/1.png)\n",
    "\n",
    "666 = 1010011010"
   ]
  },
  {
   "cell_type": "code",
   "execution_count": 2,
   "metadata": {},
   "outputs": [
    {
     "ename": "TypeError",
     "evalue": "Instruction.__init__() takes 3 positional arguments but 4 were given",
     "output_type": "error",
     "traceback": [
      "\u001b[1;31m---------------------------------------------------------------------------\u001b[0m",
      "\u001b[1;31mTypeError\u001b[0m                                 Traceback (most recent call last)",
      "Cell \u001b[1;32mIn[2], line 4\u001b[0m\n\u001b[0;32m      1\u001b[0m \u001b[38;5;28;01mfrom\u001b[39;00m \u001b[38;5;21;01massembler\u001b[39;00m \u001b[38;5;28;01mimport\u001b[39;00m Instruction\n\u001b[1;32m----> 4\u001b[0m instruction \u001b[38;5;241m=\u001b[39m \u001b[43mInstruction\u001b[49m\u001b[43m(\u001b[49m\u001b[38;5;124;43m\"\u001b[39;49m\u001b[38;5;124;43mLOAD_CONST\u001b[39;49m\u001b[38;5;124;43m\"\u001b[39;49m\u001b[43m,\u001b[49m\u001b[43m \u001b[49m\u001b[38;5;241;43m191\u001b[39;49m\u001b[43m,\u001b[49m\u001b[43m \u001b[49m\u001b[38;5;241;43m666\u001b[39;49m\u001b[43m)\u001b[49m\n\u001b[0;32m      5\u001b[0m instruction\u001b[38;5;241m.\u001b[39mencode()\n\u001b[0;32m      7\u001b[0m \u001b[38;5;66;03m# instruction2 = Instruction(\"AAA\", [22, 20])\u001b[39;00m\n\u001b[0;32m      8\u001b[0m \u001b[38;5;66;03m# instruction2.encode()\u001b[39;00m\n",
      "\u001b[1;31mTypeError\u001b[0m: Instruction.__init__() takes 3 positional arguments but 4 were given"
     ]
    }
   ],
   "source": [
    "from assembler import Instruction\n",
    "\n",
    "\n",
    "instruction = Instruction(\"LOAD_CONST\", 191, 666)\n",
    "instruction.encode()\n",
    "\n",
    "# instruction2 = Instruction(\"AAA\", [22, 20])\n",
    "# instruction2.encode()"
   ]
  },
  {
   "cell_type": "code",
   "execution_count": 2,
   "metadata": {},
   "outputs": [
    {
     "name": "stdout",
     "output_type": "stream",
     "text": [
      "first operands: ['191', '10']\n",
      "first operands: ['5', '5']\n",
      "first operands: ['5', '0']\n",
      "endcode\n",
      "operands [191, 10]\n",
      "const 191, adress 10\n",
      "const 191 (0b10111111), adress 10 (0b1010)\n",
      "shift opcode: 49, shift const: 30, shift adress: 38\n",
      "i: 20 - 00010100\n",
      "i: 0 - 00000000\n",
      "i: 0 - 00000000\n",
      "i: 47 - 00101111\n",
      "i: 192 - 11000000\n",
      "i: 0 - 00000000\n",
      "i: 160 - 10100000\n",
      "14 00 00 2f c0 00 a0\n",
      "1\n",
      "00010100000000000000000000101111110000000000000010100000\n",
      "endcode\n",
      "operands [5, 5]\n",
      "const 5, adress 5\n",
      "const 5 (0b101), adress 5 (0b101)\n",
      "shift opcode: 49, shift const: 30, shift adress: 38\n",
      "i: 20 - 00010100\n",
      "i: 0 - 00000000\n",
      "i: 0 - 00000000\n",
      "i: 1 - 00000001\n",
      "i: 64 - 01000000\n",
      "i: 0 - 00000000\n",
      "i: 80 - 01010000\n",
      "14 00 00 01 40 00 50\n",
      "1\n",
      "00010100000000000000000000000001010000000000000001010000\n",
      "endcode\n",
      "operands [5, 0]\n",
      "e8 00 01 40 00 00\n",
      "1\n",
      "111010000000000000000001010000000000000000000000\n",
      "const\n",
      "const\n",
      "[5, 0, 0, 0, 0, 0, 0, 0, 0, 0, 0, 0, 0, 0, 0, 0]\n"
     ]
    }
   ],
   "source": [
    "from assembler import main\n",
    "\n",
    "main()\n"
   ]
  },
  {
   "cell_type": "code",
   "execution_count": 6,
   "metadata": {},
   "outputs": [
    {
     "name": "stdout",
     "output_type": "stream",
     "text": [
      "0b11\n",
      "0b11000000\n",
      "0b1010 0b110 0b10\n"
     ]
    },
    {
     "data": {
      "text/plain": [
       "2"
      ]
     },
     "execution_count": 6,
     "metadata": {},
     "output_type": "execute_result"
    }
   ],
   "source": [
    "i = 3\n",
    "print(bin(i))\n",
    "print(bin(i << (8 - 2)))\n",
    "print(bin(10), bin(6), bin(10 & 6))\n",
    "10 & 6"
   ]
  }
 ],
 "metadata": {
  "kernelspec": {
   "display_name": "Python 3",
   "language": "python",
   "name": "python3"
  },
  "language_info": {
   "codemirror_mode": {
    "name": "ipython",
    "version": 3
   },
   "file_extension": ".py",
   "mimetype": "text/x-python",
   "name": "python",
   "nbconvert_exporter": "python",
   "pygments_lexer": "ipython3",
   "version": "3.12.6"
  }
 },
 "nbformat": 4,
 "nbformat_minor": 2
}
