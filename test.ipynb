{
 "cells": [
  {
   "cell_type": "markdown",
   "metadata": {},
   "source": [
    "## CONST_TEST\n",
    "![const](./screens/test/1.png)\n",
    "\n",
    "666 = 1010011010"
   ]
  },
  {
   "cell_type": "code",
   "execution_count": 2,
   "metadata": {},
   "outputs": [
    {
     "ename": "TypeError",
     "evalue": "Instruction.__init__() takes 3 positional arguments but 4 were given",
     "output_type": "error",
     "traceback": [
      "\u001b[1;31m---------------------------------------------------------------------------\u001b[0m",
      "\u001b[1;31mTypeError\u001b[0m                                 Traceback (most recent call last)",
      "Cell \u001b[1;32mIn[2], line 4\u001b[0m\n\u001b[0;32m      1\u001b[0m \u001b[38;5;28;01mfrom\u001b[39;00m \u001b[38;5;21;01massembler\u001b[39;00m \u001b[38;5;28;01mimport\u001b[39;00m Instruction\n\u001b[1;32m----> 4\u001b[0m instruction \u001b[38;5;241m=\u001b[39m \u001b[43mInstruction\u001b[49m\u001b[43m(\u001b[49m\u001b[38;5;124;43m\"\u001b[39;49m\u001b[38;5;124;43mLOAD_CONST\u001b[39;49m\u001b[38;5;124;43m\"\u001b[39;49m\u001b[43m,\u001b[49m\u001b[43m \u001b[49m\u001b[38;5;241;43m191\u001b[39;49m\u001b[43m,\u001b[49m\u001b[43m \u001b[49m\u001b[38;5;241;43m666\u001b[39;49m\u001b[43m)\u001b[49m\n\u001b[0;32m      5\u001b[0m instruction\u001b[38;5;241m.\u001b[39mencode()\n\u001b[0;32m      7\u001b[0m \u001b[38;5;66;03m# instruction2 = Instruction(\"AAA\", [22, 20])\u001b[39;00m\n\u001b[0;32m      8\u001b[0m \u001b[38;5;66;03m# instruction2.encode()\u001b[39;00m\n",
      "\u001b[1;31mTypeError\u001b[0m: Instruction.__init__() takes 3 positional arguments but 4 were given"
     ]
    }
   ],
   "source": [
    "from assembler import Instruction\n",
    "\n",
    "\n",
    "instruction = Instruction(\"LOAD_CONST\", 191, 666)\n",
    "instruction.encode()\n",
    "\n",
    "# instruction2 = Instruction(\"AAA\", [22, 20])\n",
    "# instruction2.encode()"
   ]
  },
  {
   "cell_type": "code",
   "execution_count": 1,
   "metadata": {},
   "outputs": [
    {
     "name": "stdout",
     "output_type": "stream",
     "text": [
      "first operands: ['191', '10']\n",
      "first operands: ['5', '5']\n",
      "first operands: ['5', '0']\n",
      "endcode\n",
      "operands [191, 10]\n",
      "const 191, adress 10\n",
      "const 191 (0b10111111), adress 10 (0b1010)\n",
      "shift opcode: 49, shift const: 30, shift adress: 38\n",
      "i: 20 - 00010100\n",
      "i: 0 - 00000000\n",
      "i: 0 - 00000000\n",
      "i: 47 - 00101111\n",
      "i: 192 - 11000000\n",
      "i: 0 - 00000000\n",
      "i: 160 - 10100000\n",
      "14 00 00 2f c0 00 a0\n",
      "1\n",
      "00010100000000000000000000101111110000000000000010100000\n",
      "endcode\n",
      "operands [5, 5]\n",
      "const 5, adress 5\n",
      "const 5 (0b101), adress 5 (0b101)\n",
      "shift opcode: 49, shift const: 30, shift adress: 38\n",
      "i: 20 - 00010100\n",
      "i: 0 - 00000000\n",
      "i: 0 - 00000000\n",
      "i: 1 - 00000001\n",
      "i: 64 - 01000000\n",
      "i: 0 - 00000000\n",
      "i: 80 - 01010000\n",
      "14 00 00 01 40 00 50\n",
      "1\n",
      "00010100000000000000000000000001010000000000000001010000\n",
      "endcode\n",
      "operands [5, 0]\n",
      "e8 00 01 40 00 00\n",
      "1\n",
      "111010000000000000000001010000000000000000000000\n",
      "const\n",
      "bit_arr 000000000000000000101111110000000000000010100000\n",
      "const 191 - 00000000000000000010111111, adress 10 - 000000000000001010\n",
      "const\n",
      "bit_arr 000000000000000000000001010000000000000001010000\n",
      "const 5 - 00000000000000000000000101, adress 5 - 000000000000000101\n"
     ]
    },
    {
     "ename": "TypeError",
     "evalue": "int() can't convert non-string with explicit base",
     "output_type": "error",
     "traceback": [
      "\u001b[1;31m---------------------------------------------------------------------------\u001b[0m",
      "\u001b[1;31mTypeError\u001b[0m                                 Traceback (most recent call last)",
      "Cell \u001b[1;32mIn[1], line 3\u001b[0m\n\u001b[0;32m      1\u001b[0m \u001b[38;5;28;01mfrom\u001b[39;00m \u001b[38;5;21;01massembler\u001b[39;00m \u001b[38;5;28;01mimport\u001b[39;00m main\n\u001b[1;32m----> 3\u001b[0m \u001b[43mmain\u001b[49m\u001b[43m(\u001b[49m\u001b[43m)\u001b[49m\n",
      "File \u001b[1;32md:\\code\\python\\conf_managment\\config_managment_4\\assembler.py:223\u001b[0m, in \u001b[0;36mmain\u001b[1;34m()\u001b[0m\n\u001b[0;32m    221\u001b[0m coder\u001b[38;5;241m.\u001b[39mwrite(\u001b[38;5;124m'\u001b[39m\u001b[38;5;124moutput.txt\u001b[39m\u001b[38;5;124m'\u001b[39m)\n\u001b[0;32m    222\u001b[0m vm \u001b[38;5;241m=\u001b[39m VirtualMachine()\n\u001b[1;32m--> 223\u001b[0m \u001b[43mvm\u001b[49m\u001b[38;5;241;43m.\u001b[39;49m\u001b[43mrun\u001b[49m\u001b[43m(\u001b[49m\u001b[38;5;124;43m'\u001b[39;49m\u001b[38;5;124;43moutput.txt\u001b[39;49m\u001b[38;5;124;43m'\u001b[39;49m\u001b[43m)\u001b[49m\n",
      "File \u001b[1;32md:\\code\\python\\conf_managment\\config_managment_4\\assembler.py:162\u001b[0m, in \u001b[0;36mVirtualMachine.run\u001b[1;34m(self, file_name)\u001b[0m\n\u001b[0;32m    161\u001b[0m \u001b[38;5;28;01mdef\u001b[39;00m \u001b[38;5;21mrun\u001b[39m(\u001b[38;5;28mself\u001b[39m, file_name):\n\u001b[1;32m--> 162\u001b[0m \u001b[43m    \u001b[49m\u001b[38;5;28;43;01mfor\u001b[39;49;00m\u001b[43m \u001b[49m\u001b[43mopcode\u001b[49m\u001b[43m,\u001b[49m\u001b[43m \u001b[49m\u001b[38;5;241;43m*\u001b[39;49m\u001b[43moperands\u001b[49m\u001b[43m \u001b[49m\u001b[38;5;129;43;01min\u001b[39;49;00m\u001b[43m \u001b[49m\u001b[38;5;28;43mself\u001b[39;49m\u001b[38;5;241;43m.\u001b[39;49m\u001b[43massembler\u001b[49m\u001b[38;5;241;43m.\u001b[39;49m\u001b[43mread_bytecode\u001b[49m\u001b[43m(\u001b[49m\u001b[43mfile_name\u001b[49m\u001b[43m)\u001b[49m\u001b[43m:\u001b[49m\n\u001b[0;32m    163\u001b[0m \u001b[43m        \u001b[49m\u001b[38;5;28;43;01mmatch\u001b[39;49;00m\u001b[43m \u001b[49m\u001b[43mopcode\u001b[49m\u001b[43m:\u001b[49m\n\u001b[0;32m    164\u001b[0m \u001b[43m            \u001b[49m\u001b[38;5;28;43;01mcase\u001b[39;49;00m\u001b[43m \u001b[49m\u001b[38;5;124;43m'\u001b[39;49m\u001b[38;5;124;43mLOAD_CONST\u001b[39;49m\u001b[38;5;124;43m'\u001b[39;49m\u001b[43m:\u001b[49m\n",
      "File \u001b[1;32md:\\code\\python\\conf_managment\\config_managment_4\\assembler.py:129\u001b[0m, in \u001b[0;36mAssembler.read_bytecode\u001b[1;34m(self, file_name)\u001b[0m\n\u001b[0;32m    127\u001b[0m     read_adress \u001b[38;5;241m=\u001b[39m \u001b[38;5;28mint\u001b[39m(bit_arr[\u001b[38;5;241m0\u001b[39m:\u001b[38;5;241m26\u001b[39m \u001b[38;5;241m-\u001b[39m \u001b[38;5;241m8\u001b[39m]\u001b[38;5;241m.\u001b[39mto01(), \u001b[38;5;241m2\u001b[39m)\n\u001b[0;32m    128\u001b[0m     write_adress \u001b[38;5;241m=\u001b[39m \u001b[38;5;28mint\u001b[39m(bit_arr[\u001b[38;5;241m26\u001b[39m \u001b[38;5;241m-\u001b[39m \u001b[38;5;241m8\u001b[39m:\u001b[38;5;241m44\u001b[39m \u001b[38;5;241m-\u001b[39m \u001b[38;5;241m8\u001b[39m]\u001b[38;5;241m.\u001b[39mto01(), \u001b[38;5;241m2\u001b[39m)\n\u001b[1;32m--> 129\u001b[0m     \u001b[38;5;28;01myield\u001b[39;00m \u001b[38;5;124m\"\u001b[39m\u001b[38;5;124mWRITE_MEM\u001b[39m\u001b[38;5;124m\"\u001b[39m, \u001b[38;5;28;43mint\u001b[39;49m\u001b[43m(\u001b[49m\u001b[43mread_adress\u001b[49m\u001b[43m,\u001b[49m\u001b[43m \u001b[49m\u001b[38;5;241;43m2\u001b[39;49m\u001b[43m)\u001b[49m, \u001b[38;5;28mint\u001b[39m(write_adress, \u001b[38;5;241m2\u001b[39m)\n\u001b[0;32m    130\u001b[0m \u001b[38;5;28;01mcase\u001b[39;00m \u001b[38;5;241m219\u001b[39m: \u001b[38;5;66;03m# bin_op_and\u001b[39;00m\n\u001b[0;32m    131\u001b[0m     data \u001b[38;5;241m=\u001b[39m f\u001b[38;5;241m.\u001b[39mread(size)\n",
      "\u001b[1;31mTypeError\u001b[0m: int() can't convert non-string with explicit base"
     ]
    }
   ],
   "source": [
    "from assembler import main\n",
    "\n",
    "main()\n"
   ]
  },
  {
   "cell_type": "code",
   "execution_count": null,
   "metadata": {},
   "outputs": [
    {
     "name": "stdout",
     "output_type": "stream",
     "text": [
      "0b11\n",
      "0b11000000\n"
     ]
    }
   ],
   "source": [
    "i = 3\n",
    "print(bin(i))\n",
    "print(bin(i << (8 - 2)))"
   ]
  }
 ],
 "metadata": {
  "kernelspec": {
   "display_name": "Python 3",
   "language": "python",
   "name": "python3"
  },
  "language_info": {
   "codemirror_mode": {
    "name": "ipython",
    "version": 3
   },
   "file_extension": ".py",
   "mimetype": "text/x-python",
   "name": "python",
   "nbconvert_exporter": "python",
   "pygments_lexer": "ipython3",
   "version": "3.12.6"
  }
 },
 "nbformat": 4,
 "nbformat_minor": 2
}
