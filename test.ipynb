{
 "cells": [
  {
   "cell_type": "markdown",
   "metadata": {},
   "source": [
    "## CONST_TEST\n",
    "![const](./screens/test/1.png)\n",
    "\n",
    "666 = 1010011010"
   ]
  },
  {
   "cell_type": "code",
   "execution_count": 2,
   "metadata": {},
   "outputs": [
    {
     "name": "stdout",
     "output_type": "stream",
     "text": [
      "endcode\n",
      "operands (191, 666)\n",
      "14 00 00 bf 00 a6 80\n",
      "1\n",
      "00010100000000000000000010111111000000001010011010000000\n"
     ]
    },
    {
     "data": {
      "text/plain": [
       "bitarray('00010100000000000000000010111111000000001010011010000000')"
      ]
     },
     "execution_count": 2,
     "metadata": {},
     "output_type": "execute_result"
    }
   ],
   "source": [
    "from assembler import Instruction\n",
    "\n",
    "\n",
    "instruction = Instruction(\"LOAD_CONST\", 191, 666)\n",
    "instruction.encode()\n",
    "\n",
    "# instruction2 = Instruction(\"AAA\", [22, 20])\n",
    "# instruction2.encode()"
   ]
  },
  {
   "cell_type": "code",
   "execution_count": 1,
   "metadata": {},
   "outputs": [
    {
     "name": "stdout",
     "output_type": "stream",
     "text": [
      "first operands: ['191', '666']\n",
      "endcode\n",
      "operands [191, 666]\n",
      "const 191, adress 666\n",
      "const 191 (0b10111111), adress 666 (0b1010011010)\n",
      "shift opcode: 49, shift const: 30, shift adress: 38\n",
      "i: 20 - 00010100\n",
      "i: 0 - 00000000\n",
      "i: 0 - 00000000\n",
      "i: 47 - 00101111\n",
      "i: 192 - 11000000\n",
      "i: 41 - 00101001\n",
      "i: 160 - 10100000\n",
      "14 00 00 2f c0 29 a0\n",
      "1\n",
      "00010100000000000000000000101111110000000010100110100000\n",
      "const\n",
      "bit_arr 000000000000000000101111110000000010100110100000\n",
      "const 191 - 00000000000000000010111111, adress 666 - 000000001010011010\n"
     ]
    }
   ],
   "source": [
    "from assembler import main\n",
    "\n",
    "main()\n"
   ]
  },
  {
   "cell_type": "code",
   "execution_count": 7,
   "metadata": {},
   "outputs": [
    {
     "name": "stdout",
     "output_type": "stream",
     "text": [
      "0b11\n",
      "0b11000000\n"
     ]
    }
   ],
   "source": [
    "i = 3\n",
    "print(bin(i))\n",
    "print(bin(i << (8 - 2)))"
   ]
  }
 ],
 "metadata": {
  "kernelspec": {
   "display_name": "Python 3",
   "language": "python",
   "name": "python3"
  },
  "language_info": {
   "codemirror_mode": {
    "name": "ipython",
    "version": 3
   },
   "file_extension": ".py",
   "mimetype": "text/x-python",
   "name": "python",
   "nbconvert_exporter": "python",
   "pygments_lexer": "ipython3",
   "version": "3.12.6"
  }
 },
 "nbformat": 4,
 "nbformat_minor": 2
}
