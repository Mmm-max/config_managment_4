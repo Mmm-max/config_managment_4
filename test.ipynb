{
 "cells": [
  {
   "cell_type": "markdown",
   "metadata": {},
   "source": [
    "## CONST_TEST\n",
    "![const](./screens/test/1.png)\n",
    "\n",
    "666 = 1010011010"
   ]
  },
  {
   "cell_type": "code",
   "execution_count": 2,
   "metadata": {},
   "outputs": [
    {
     "name": "stdout",
     "output_type": "stream",
     "text": [
      "endcode\n",
      "operands (191, 666)\n",
      "14 00 00 bf 00 a6 80\n",
      "1\n",
      "00010100000000000000000010111111000000001010011010000000\n"
     ]
    },
    {
     "data": {
      "text/plain": [
       "bitarray('00010100000000000000000010111111000000001010011010000000')"
      ]
     },
     "execution_count": 2,
     "metadata": {},
     "output_type": "execute_result"
    }
   ],
   "source": [
    "from assembler import Instruction\n",
    "\n",
    "\n",
    "instruction = Instruction(\"LOAD_CONST\", 191, 666)\n",
    "instruction.encode()\n",
    "\n",
    "# instruction2 = Instruction(\"AAA\", [22, 20])\n",
    "# instruction2.encode()"
   ]
  },
  {
   "cell_type": "code",
   "execution_count": null,
   "metadata": {},
   "outputs": [],
   "source": [
    "from assembler import Instruction"
   ]
  }
 ],
 "metadata": {
  "kernelspec": {
   "display_name": "Python 3",
   "language": "python",
   "name": "python3"
  },
  "language_info": {
   "codemirror_mode": {
    "name": "ipython",
    "version": 3
   },
   "file_extension": ".py",
   "mimetype": "text/x-python",
   "name": "python",
   "nbconvert_exporter": "python",
   "pygments_lexer": "ipython3",
   "version": "3.11.4"
  }
 },
 "nbformat": 4,
 "nbformat_minor": 2
}
