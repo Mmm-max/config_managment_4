{
 "cells": [
  {
   "cell_type": "code",
   "execution_count": 11,
   "metadata": {},
   "outputs": [
    {
     "name": "stdout",
     "output_type": "stream",
     "text": [
      "00010100\n"
     ]
    }
   ],
   "source": [
    "from assembler import Instruction\n",
    "\n",
    "\n",
    "instruction = Instruction(\"LOAD_CONST\", [20, 191, 666])\n",
    "instruction.encode()\n",
    "\n",
    "# instruction2 = Instruction(\"AAA\", [22, 20])\n",
    "# instruction2.encode()"
   ]
  }
 ],
 "metadata": {
  "kernelspec": {
   "display_name": "Python 3",
   "language": "python",
   "name": "python3"
  },
  "language_info": {
   "codemirror_mode": {
    "name": "ipython",
    "version": 3
   },
   "file_extension": ".py",
   "mimetype": "text/x-python",
   "name": "python",
   "nbconvert_exporter": "python",
   "pygments_lexer": "ipython3",
   "version": "3.11.4"
  }
 },
 "nbformat": 4,
 "nbformat_minor": 2
}
